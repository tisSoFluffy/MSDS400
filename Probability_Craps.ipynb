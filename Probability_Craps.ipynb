{
 "cells": [
  {
   "cell_type": "code",
   "execution_count": 176,
   "metadata": {},
   "outputs": [],
   "source": [
    "import numpy as np\n",
    "import pandas as pd"
   ]
  },
  {
   "cell_type": "code",
   "execution_count": 149,
   "metadata": {},
   "outputs": [],
   "source": [
    "dice = np.array([[1,1], [1,2],[1,3],[1,4],[1,5],[1,6],\n",
    "                [2,1], [2,2],[2,3],[2,4],[2,5],[2,6],\n",
    "                [3,1], [3,2],[3,3],[3,4],[3,5],[3,6],\n",
    "                [4,1], [4,2],[4,3],[4,4],[4,5],[4,6],\n",
    "                [5,1], [5,2],[5,3],[5,4],[5,5],[5,6],\n",
    "                [6,1], [6,2],[6,3],[6,4],[6,5],[6,6]])"
   ]
  },
  {
   "cell_type": "code",
   "execution_count": 150,
   "metadata": {},
   "outputs": [],
   "source": [
    "dice_value = [sum(x) for x in dice]"
   ]
  },
  {
   "cell_type": "code",
   "execution_count": 162,
   "metadata": {},
   "outputs": [
    {
     "name": "stdout",
     "output_type": "stream",
     "text": [
      "None\n"
     ]
    }
   ],
   "source": [
    "dice_value.sort()"
   ]
  },
  {
   "cell_type": "code",
   "execution_count": 158,
   "metadata": {},
   "outputs": [],
   "source": [
    "def countFrequency(my_list):\n",
    "    freq = {} \n",
    "    for item in my_list: \n",
    "        if (item in freq): \n",
    "            freq[item] += 1\n",
    "        else: \n",
    "            freq[item] = 1\n",
    "    return freq"
   ]
  },
  {
   "cell_type": "code",
   "execution_count": 159,
   "metadata": {},
   "outputs": [],
   "source": [
    "counts = countFrequency(dice_value)"
   ]
  },
  {
   "cell_type": "code",
   "execution_count": 133,
   "metadata": {},
   "outputs": [
    {
     "data": {
      "text/plain": [
       "36"
      ]
     },
     "execution_count": 133,
     "metadata": {},
     "output_type": "execute_result"
    }
   ],
   "source": [
    "#Number of  occurances (denominator)\n",
    "np.count_nonzero(a)"
   ]
  },
  {
   "cell_type": "code",
   "execution_count": 160,
   "metadata": {},
   "outputs": [
    {
     "data": {
      "text/plain": [
       "{2: 1, 3: 2, 4: 3, 5: 4, 6: 5, 7: 6, 8: 5, 9: 4, 10: 3, 11: 2, 12: 1}"
      ]
     },
     "execution_count": 160,
     "metadata": {},
     "output_type": "execute_result"
    }
   ],
   "source": [
    "counts"
   ]
  },
  {
   "cell_type": "code",
   "execution_count": 177,
   "metadata": {},
   "outputs": [
    {
     "name": "stdout",
     "output_type": "stream",
     "text": [
      "P(2) = 1 / 36 = 0.0278\n",
      "P(3) = 2 / 36 = 0.0556\n",
      "P(4) = 3 / 36 = 0.0833\n",
      "P(5) = 4 / 36 = 0.1111\n",
      "P(6) = 5 / 36 = 0.1389\n",
      "P(7) = 6 / 36 = 0.1667\n",
      "P(8) = 5 / 36 = 0.1389\n",
      "P(9) = 4 / 36 = 0.1111\n",
      "P(10) = 3 / 36 = 0.0833\n",
      "P(11) = 2 / 36 = 0.0556\n",
      "P(12) = 1 / 36 = 0.0278\n"
     ]
    }
   ],
   "source": [
    "probabilities = {}\n",
    "total_prob = 0\n",
    "for key, value in counts.items():\n",
    "    print(f'P({key}) = {value} / 36 = {round(value / 36, 4)}')\n",
    "    probabilities[key] = value / 36\n",
    "    if key != 7:\n",
    "        total_prob += value / 36"
   ]
  },
  {
   "cell_type": "code",
   "execution_count": 178,
   "metadata": {},
   "outputs": [
    {
     "data": {
      "text/plain": [
       "0.8333333333333335"
      ]
     },
     "execution_count": 178,
     "metadata": {},
     "output_type": "execute_result"
    }
   ],
   "source": [
    "total_prob"
   ]
  },
  {
   "cell_type": "code",
   "execution_count": null,
   "metadata": {},
   "outputs": [],
   "source": []
  }
 ],
 "metadata": {
  "kernelspec": {
   "display_name": "Python 3",
   "language": "python",
   "name": "python3"
  },
  "language_info": {
   "codemirror_mode": {
    "name": "ipython",
    "version": 3
   },
   "file_extension": ".py",
   "mimetype": "text/x-python",
   "name": "python",
   "nbconvert_exporter": "python",
   "pygments_lexer": "ipython3",
   "version": "3.7.1"
  }
 },
 "nbformat": 4,
 "nbformat_minor": 2
}
